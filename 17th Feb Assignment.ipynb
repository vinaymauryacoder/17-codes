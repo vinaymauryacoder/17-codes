{
 "cells": [
  {
   "cell_type": "code",
   "execution_count": null,
   "id": "db3f90ae",
   "metadata": {},
   "outputs": [],
   "source": [
    "Q1. What is MongoDB? Explain non-relational databases in short. In which scenarios it is preferred to use\n",
    "MongoDB over SQL databases?"
   ]
  },
  {
   "cell_type": "code",
   "execution_count": null,
   "id": "70923a02",
   "metadata": {},
   "outputs": [],
   "source": [
    "MongoDB is a popular NoSQL document-oriented database management system that uses JSON-like documents with dynamic schemas to\n",
    "store and retrieve data. \n",
    "    \n",
    "MongoDB does not require a predefined schema, allowing for more flexible and scalable data models.\n",
    "\n",
    " \"\"\"MongoDB is preferred over SQL databases in scenarios where high scalability, flexibility, and real-time analytics are \n",
    "    required, and the data model is unstructured or semi-structured.\"\"\""
   ]
  },
  {
   "cell_type": "code",
   "execution_count": null,
   "id": "c180d033",
   "metadata": {},
   "outputs": [],
   "source": [
    "Q2. State and Explain the features of MongoDB."
   ]
  },
  {
   "cell_type": "code",
   "execution_count": null,
   "id": "f9918066",
   "metadata": {},
   "outputs": [],
   "source": [
    "MongoDB is a NoSQL document-oriented database system that provides high performance, scalability, and flexibility.\n",
    "\n",
    "features of MongoDB:\n",
    "    Document-oriented\n",
    "    Dynamic schema\n",
    "    High availability\n",
    "    Scalability\n",
    "    Replication\n",
    "    Aggregation"
   ]
  },
  {
   "cell_type": "code",
   "execution_count": null,
   "id": "695ce72b",
   "metadata": {},
   "outputs": [],
   "source": [
    "Q3. Write a code to connect MongoDB to Python. Also, create a database and a collection in MongoDB."
   ]
  },
  {
   "cell_type": "code",
   "execution_count": null,
   "id": "8a7f82a4",
   "metadata": {},
   "outputs": [],
   "source": [
    "pip install pymongo # to install mongoDB \n",
    "import pymongo # then import the MongoDB\n",
    "\n",
    "# Replace the placeholder values with your MongoDB connection string and database name\n",
    "client = pymongo.MongoClient(\"mongodb+srv://<username>:<password>@<cluster>/<database>?retryWrites=true&w=majority\")\n",
    "\n",
    "db = client.test_database \n",
    "# Replace \"test_database\" with your desired database name\n",
    "collection = db.test_collection  \n",
    "# Replace \"test_collection\" with your desired collection name\n",
    "\n",
    "# Insert a document into the collection\n",
    "document = {\"name\": \"John\", \"age\": 30}\n",
    "collection.insert_one(document)\n",
    "\n",
    "# Find all documents in the collection and print them\n",
    "for document in collection.find():\n",
    "    print(document)\n"
   ]
  },
  {
   "cell_type": "code",
   "execution_count": null,
   "id": "bee791e8",
   "metadata": {},
   "outputs": [],
   "source": [
    "Q4. Using the database and the collection created in question number 3, write a code to insert one record,\n",
    "and insert many records. Use the find() and find_one() methods to print the inserted record."
   ]
  },
  {
   "cell_type": "code",
   "execution_count": null,
   "id": "b9ffe791",
   "metadata": {},
   "outputs": [],
   "source": [
    "import pymongo\n",
    "\n",
    "# Replace the placeholder values with your MongoDB connection string and database name\n",
    "client = pymongo.MongoClient(\"mongodb+srv://<username>:<password>@<cluster>/<database>?retryWrites=true&w=majority\")\n",
    "db = client.test_database  # Replace \"test_database\" with your desired database name\n",
    "collection = db.test_collection  # Replace \"test_collection\" with your desired collection name\n",
    "\n",
    "# Insert one record\n",
    "document = {\"name\": \"don\", \"age\": 25, \"occupation\": \"teacher\"}\n",
    "collection.insert_one(document)\n",
    "\n",
    "# Insert many records\n",
    "documents = [\n",
    "    {\"name\": \"Bob\", \"age\": 30, \"occupation\": \"engineer\"},\n",
    "    {\"name\": \"sher\", \"age\": 35, \"occupation\": \"doctor\"},\n",
    "    {\"name\": \"rohit\", \"age\": 40, \"occupation\": \"lawyer\"}\n",
    "]\n",
    "collection.insert_many(documents)\n",
    "\n",
    "# Print the inserted records using find_one()\n",
    "print(\"One record:\")\n",
    "print(collection.find_one({\"name\": \"don\"}))\n",
    "print()\n",
    "\n",
    "# Print the inserted records using find()\n",
    "print(\"Many records:\")\n",
    "for document in collection.find():\n",
    "    print(document)\n"
   ]
  },
  {
   "cell_type": "code",
   "execution_count": null,
   "id": "03c6411b",
   "metadata": {},
   "outputs": [],
   "source": [
    "Q5. Explain how you can use the find() method to query the MongoDB database. Write a simple code to\n",
    "demonstrate this."
   ]
  },
  {
   "cell_type": "code",
   "execution_count": null,
   "id": "0aefa72a",
   "metadata": {},
   "outputs": [],
   "source": [
    "The find() method is used to query the MongoDB database and retrieve documents that match a certain set of criteria. It can be\n",
    "used to retrieve all documents in a collection or to retrieve a subset of documents that match a specific set of query\n",
    "conditions\n",
    "\n",
    "import pymongo\n",
    "client = pymongo.MongoClient(\"mongodb+srv://<username>:<password>@<cluster>/<database>?retryWrites=true&w=majority\")\n",
    "db = client.test_database \n",
    "collection = db.test_collection \n",
    "query = {\"age\": {\"$gte\": 30}}\n",
    "documents = collection.find(query)\n",
    "for document in documents:\n",
    "    print(document)\n"
   ]
  },
  {
   "cell_type": "code",
   "execution_count": null,
   "id": "b765e0c4",
   "metadata": {},
   "outputs": [],
   "source": [
    "Q6. Explain the sort() method. Give an example to demonstrate sorting in MongoDB."
   ]
  },
  {
   "cell_type": "code",
   "execution_count": null,
   "id": "dc0d4078",
   "metadata": {},
   "outputs": [],
   "source": [
    "The sort() method is used to sort the results of a MongoDB query based on one or more fields. It takes one or more parameters \n",
    "that specify the fields to sort on, and the direction of the sorting (ascending or descending).\n",
    "\n",
    "\n",
    "import pymongo\n",
    "\n",
    "client = pymongo.MongoClient(\"mongodb+srv://<username>:<password>@<cluster>/<database>?retryWrites=true&w=majority\")\n",
    "db = client.test_database  \n",
    "collection = db.test_collection  \n",
    "\n",
    "\n",
    "query = {\"age\": {\"$gte\": 30}}\n",
    "documents = collection.find(query).sort(\"age\", pymongo.DESCENDING)\n",
    "\n",
    "\n",
    "for document in documents:\n",
    "    print(document)\n"
   ]
  },
  {
   "cell_type": "code",
   "execution_count": null,
   "id": "9073e074",
   "metadata": {},
   "outputs": [],
   "source": [
    "client = pymongo.MongoClient(\"mongodb+srv://<username>:<password>@<cluster>/<database>?retryWrites=true&w=majority\")\n",
    "db = client.test_database  \n",
    "collection = db.test_collection  \n",
    "\n",
    "\n",
    "query = {\"age\": {\"$gte\": 30}}\n",
    "documents = collection.find(query).sort([(\"age\", pymongo.DESCENDING), (\"name\", pymongo.ASCENDING)])\n",
    "for document in documents:\n",
    "    print(document)\n"
   ]
  },
  {
   "cell_type": "code",
   "execution_count": null,
   "id": "4b1929d4",
   "metadata": {},
   "outputs": [],
   "source": [
    "Q7. Explain why delete_one(), delete_many(), and drop() is used."
   ]
  },
  {
   "cell_type": "code",
   "execution_count": null,
   "id": "2bf3e8e1",
   "metadata": {},
   "outputs": [],
   "source": [
    "the delete_one() and delete_many() methods are used to remove documents from a MongoDB collection that match a specified \n",
    "set of criteria.\n",
    "\n",
    "The delete_one() method removes a single document .\n",
    "The delete_many() method removes all documents that match the specified filter criteria.\n",
    "\n",
    "The drop() method is used to remove an entire collection from a MongoDB database"
   ]
  },
  {
   "cell_type": "code",
   "execution_count": null,
   "id": "8eb7c3b5",
   "metadata": {},
   "outputs": [],
   "source": []
  },
  {
   "cell_type": "code",
   "execution_count": null,
   "id": "44062a2f",
   "metadata": {},
   "outputs": [],
   "source": []
  }
 ],
 "metadata": {
  "kernelspec": {
   "display_name": "Python 3 (ipykernel)",
   "language": "python",
   "name": "python3"
  },
  "language_info": {
   "codemirror_mode": {
    "name": "ipython",
    "version": 3
   },
   "file_extension": ".py",
   "mimetype": "text/x-python",
   "name": "python",
   "nbconvert_exporter": "python",
   "pygments_lexer": "ipython3",
   "version": "3.9.13"
  }
 },
 "nbformat": 4,
 "nbformat_minor": 5
}
